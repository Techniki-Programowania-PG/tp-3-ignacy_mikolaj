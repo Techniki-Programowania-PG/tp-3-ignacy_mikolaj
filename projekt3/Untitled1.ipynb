{
 "cells": [
  {
   "cell_type": "markdown",
   "id": "967305e4-ec10-4f9d-b0b5-d07412651166",
   "metadata": {},
   "source": [
    "Projekt 3 techniki programowania\n"
   ]
  },
  {
   "cell_type": "markdown",
   "id": "6679207a-28bb-4d3b-af81-1100ffeb3625",
   "metadata": {},
   "source": [
    "Mikołaj Piegat 203294 i Ignacy Pałkowski "
   ]
  },
  {
   "cell_type": "code",
   "execution_count": 12,
   "id": "8e482972-9af9-44a1-9e12-03c8d0694edf",
   "metadata": {},
   "outputs": [],
   "source": [
    "import _core"
   ]
  },
  {
   "cell_type": "markdown",
   "id": "7bebecaf-a3ce-45a0-92b5-8e979c1a9abc",
   "metadata": {},
   "source": [
    "Funkcja sinus"
   ]
  },
  {
   "cell_type": "code",
   "execution_count": 13,
   "id": "885056a5-2528-4221-9fd1-63bfaa07ba89",
   "metadata": {},
   "outputs": [],
   "source": [
    "sin = _core.sin(0.5,0,6.28,500,2)\n"
   ]
  },
  {
   "cell_type": "markdown",
   "id": "b46bf72f-acab-46ae-959b-32f1692b8118",
   "metadata": {},
   "source": [
    "Funkcja cosinus"
   ]
  },
  {
   "cell_type": "code",
   "execution_count": 14,
   "id": "b0f1a136-54b8-4d0a-a210-a661f76c0aae",
   "metadata": {},
   "outputs": [],
   "source": [
    "cos=_core.cos(0.5,0,6.28,500,2)"
   ]
  },
  {
   "cell_type": "markdown",
   "id": "831c13ca-adc5-470b-a044-4d467bdbcc80",
   "metadata": {},
   "source": [
    "Funkcja piłokształtna "
   ]
  },
  {
   "cell_type": "code",
   "execution_count": 15,
   "id": "dac0c8ca-97d0-4129-ab63-dd120e5a85c9",
   "metadata": {},
   "outputs": [],
   "source": [
    "pil=_core.pila(5, 1000, 1000)"
   ]
  },
  {
   "cell_type": "markdown",
   "id": "84b282fd-0798-40b8-aa16-5ddd8fccf21a",
   "metadata": {},
   "source": [
    "Funkcja prostokątna"
   ]
  },
  {
   "cell_type": "code",
   "execution_count": 16,
   "id": "6ec1797e-b40f-43e3-bc32-1b250899ade2",
   "metadata": {},
   "outputs": [],
   "source": [
    "pro=_core.pro(0.5,0,6.28,500,2)"
   ]
  },
  {
   "cell_type": "markdown",
   "id": "5c065bba-30b4-4903-a795-828fd884771a",
   "metadata": {},
   "source": [
    "Transformata DFT"
   ]
  },
  {
   "cell_type": "code",
   "execution_count": 17,
   "id": "07726695-d6d4-411d-93ff-643c14d88305",
   "metadata": {},
   "outputs": [],
   "source": [
    "signal = _core.sin(1, 0, 6.28, 500, 2)\n",
    "dft_result = _core.dft(signal, 0, 6.28, 500)"
   ]
  },
  {
   "cell_type": "markdown",
   "id": "aa9dd6d8-84bc-4141-8aeb-6a5dfcfbb1bf",
   "metadata": {},
   "source": [
    "Odwrotna transformata"
   ]
  },
  {
   "cell_type": "code",
   "execution_count": 18,
   "id": "b3beb60f-a800-452e-815d-4c83900bceaf",
   "metadata": {},
   "outputs": [],
   "source": [
    "signal = _core.sin(1, 0, 6.28, 500, 2)\n",
    "odwr=_core.idft(_core.dft(signal, 0, 6.28, 500),100)"
   ]
  },
  {
   "cell_type": "markdown",
   "id": "ec17ac3f-04cd-40ab-843b-16a0baeeb0e8",
   "metadata": {},
   "source": [
    "Filtr 1D"
   ]
  },
  {
   "cell_type": "code",
   "execution_count": 19,
   "id": "1242276b-4a26-4bb1-923a-62ff29e00065",
   "metadata": {},
   "outputs": [],
   "source": [
    "signal2 = [0.5, 2.0, 1.5, 0.8, 1.2, 3.0, 0.4, 0.7, 1.1,23,2,21,1.2,3.4,4.5,3.7]\n",
    "filtr=_core.filter1d(signal2, 3)"
   ]
  },
  {
   "cell_type": "markdown",
   "id": "d702612b-1940-40b9-91dc-8e2d9e3be6a7",
   "metadata": {},
   "source": [
    "Filtr 2D"
   ]
  },
  {
   "cell_type": "code",
   "execution_count": 20,
   "id": "4696725f-2330-4e2a-8e7c-7ad5454b860a",
   "metadata": {},
   "outputs": [],
   "source": [
    "filtr2=_core.filtr2()"
   ]
  }
 ],
 "metadata": {
  "kernelspec": {
   "display_name": "Python 3 (ipykernel)",
   "language": "python",
   "name": "python3"
  },
  "language_info": {
   "codemirror_mode": {
    "name": "ipython",
    "version": 3
   },
   "file_extension": ".py",
   "mimetype": "text/x-python",
   "name": "python",
   "nbconvert_exporter": "python",
   "pygments_lexer": "ipython3",
   "version": "3.13.3"
  }
 },
 "nbformat": 4,
 "nbformat_minor": 5
}
